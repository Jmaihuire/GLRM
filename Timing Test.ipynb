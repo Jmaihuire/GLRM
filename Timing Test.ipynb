{
 "cells": [
  {
   "cell_type": "markdown",
   "metadata": {},
   "source": [
    "# Timing test\n",
    "\n",
    "Comparing the different ways of defining the loss functions.\n",
    "\n",
    "The one that is pretty obvious slower is significantly slower as matrix size grows.\n",
    "\n",
    "Even though its slightly prettier clearly need to change."
   ]
  },
  {
   "cell_type": "code",
   "execution_count": 10,
   "metadata": {},
   "outputs": [],
   "source": [
    "%matplotlib inline\n",
    "import matplotlib.pyplot as plt\n",
    "from sklearn import datasets\n",
    "from matplotlib import rc\n",
    "rc(\"font\", family = \"serif\",size=20)\n",
    "rc(\"figure\",figsize=(9,6))\n",
    "rc(\"figure\",facecolor=\"white\")\n",
    "%config InlineBackend.figure_format = 'retina'\n",
    "\n",
    "import cvxpy as cp\n",
    "import numpy as np\n",
    "\n",
    "from loss import *\n",
    "from reg import *\n",
    "from convergence import *\n",
    "from utils import *\n",
    "\n"
   ]
  },
  {
   "cell_type": "code",
   "execution_count": 7,
   "metadata": {},
   "outputs": [],
   "source": [
    "m = 600\n",
    "n = 30"
   ]
  },
  {
   "cell_type": "code",
   "execution_count": 8,
   "metadata": {},
   "outputs": [
    {
     "name": "stdout",
     "output_type": "stream",
     "text": [
      "1.29 ms ± 101 µs per loop (mean ± std. dev. of 7 runs, 1000 loops each)\n"
     ]
    }
   ],
   "source": [
    "%%timeit\n",
    "A = np.random.rand(m,n)\n",
    "U = np.random.rand(m,n)\n",
    "sigma_arr = np.random.rand(m,n)\n",
    "columns = np.arange(4)\n",
    "cp.sum((cp.square(A-U)/sigma_arr)[:,columns]).value"
   ]
  },
  {
   "cell_type": "code",
   "execution_count": 9,
   "metadata": {},
   "outputs": [
    {
     "name": "stdout",
     "output_type": "stream",
     "text": [
      "328 µs ± 21.2 µs per loop (mean ± std. dev. of 7 runs, 1000 loops each)\n"
     ]
    }
   ],
   "source": [
    "%%timeit\n",
    "m = 150\n",
    "n = 6\n",
    "A = np.random.rand(m,n)\n",
    "U = np.random.rand(m,n)\n",
    "sigma_arr = np.random.rand(m,n)\n",
    "columns = np.arange(4)\n",
    "cp.sum((cp.square(A[:,columns]-U[:,columns])/sigma_arr[:,columns])).value"
   ]
  },
  {
   "cell_type": "code",
   "execution_count": null,
   "metadata": {},
   "outputs": [],
   "source": []
  }
 ],
 "metadata": {
  "kernelspec": {
   "display_name": "Python 3",
   "language": "python",
   "name": "python3"
  },
  "language_info": {
   "codemirror_mode": {
    "name": "ipython",
    "version": 3
   },
   "file_extension": ".py",
   "mimetype": "text/x-python",
   "name": "python",
   "nbconvert_exporter": "python",
   "pygments_lexer": "ipython3",
   "version": "3.6.3"
  }
 },
 "nbformat": 4,
 "nbformat_minor": 2
}
