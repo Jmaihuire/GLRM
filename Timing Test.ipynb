{
 "cells": [
  {
   "cell_type": "markdown",
   "metadata": {},
   "source": [
    "# Timing test\n",
    "\n",
    "Comparing the different ways of defining the loss functions.\n",
    "\n",
    "Mostly this was confusing and i'm not sure whats optimal\n",
    "\n",
    "for tall skinny matrices indexing seems more costly than just calculating the whole thing, but for less skinny ones the more aggressive indexing seems to in fact be more efficient\n",
    "\n",
    "probably doesn't matter too much."
   ]
  },
  {
   "cell_type": "code",
   "execution_count": 63,
   "metadata": {},
   "outputs": [],
   "source": [
    "%matplotlib inline\n",
    "import matplotlib.pyplot as plt\n",
    "from sklearn import datasets\n",
    "from matplotlib import rc\n",
    "rc(\"font\", family = \"serif\",size=20)\n",
    "rc(\"figure\",figsize=(9,6))\n",
    "rc(\"figure\",facecolor=\"white\")\n",
    "%config InlineBackend.figure_format = 'retina'\n",
    "\n",
    "import cvxpy as cp\n",
    "import numpy as np\n",
    "\n",
    "from loss import *\n",
    "from reg import *\n",
    "from convergence import *\n",
    "from utils import *\n",
    "\n"
   ]
  },
  {
   "cell_type": "code",
   "execution_count": 94,
   "metadata": {},
   "outputs": [],
   "source": [
    "m = 20000\n",
    "n = 3\n",
    "seed = np.random.randint(0,100)\n",
    "columns = np.random.randint(0,n,size=6)\n",
    "# columns.dtype\n"
   ]
  },
  {
   "cell_type": "code",
   "execution_count": 95,
   "metadata": {},
   "outputs": [
    {
     "name": "stdout",
     "output_type": "stream",
     "text": [
      "2.58 ms ± 258 µs per loop (mean ± std. dev. of 7 runs, 100 loops each)\n"
     ]
    }
   ],
   "source": [
    "%%timeit\n",
    "np.random.seed(seed)\n",
    "A = np.random.rand(m,n)\n",
    "U = np.random.rand(m,n)\n",
    "sigma_arr = np.random.rand(m,n)\n",
    "cp.sum((cp.square(A-U)/sigma_arr)[:,columns])"
   ]
  },
  {
   "cell_type": "code",
   "execution_count": 96,
   "metadata": {},
   "outputs": [
    {
     "name": "stdout",
     "output_type": "stream",
     "text": [
      "2.95 ms ± 92.8 µs per loop (mean ± std. dev. of 7 runs, 100 loops each)\n"
     ]
    }
   ],
   "source": [
    "%%timeit\n",
    "np.random.seed(seed)\n",
    "\n",
    "A = np.random.rand(m,n)\n",
    "U = np.random.rand(m,n)\n",
    "sigma_arr = np.random.rand(m,n)\n",
    "cp.sum((cp.square(A[:,columns]-U[:,columns])/sigma_arr[:,columns]))"
   ]
  },
  {
   "cell_type": "markdown",
   "metadata": {},
   "source": [
    "### Numpy"
   ]
  },
  {
   "cell_type": "code",
   "execution_count": 97,
   "metadata": {},
   "outputs": [
    {
     "name": "stdout",
     "output_type": "stream",
     "text": [
      "2.39 ms ± 46.1 µs per loop (mean ± std. dev. of 7 runs, 100 loops each)\n"
     ]
    }
   ],
   "source": [
    "%%timeit\n",
    "np.random.seed(seed)\n",
    "\n",
    "A = np.random.rand(m,n)\n",
    "U = np.random.rand(m,n)\n",
    "sigma_arr = np.random.rand(m,n)\n",
    "np.sum((np.square(A-U)/sigma_arr)[:,columns])"
   ]
  },
  {
   "cell_type": "code",
   "execution_count": 98,
   "metadata": {},
   "outputs": [
    {
     "name": "stdout",
     "output_type": "stream",
     "text": [
      "2.93 ms ± 47.3 µs per loop (mean ± std. dev. of 7 runs, 100 loops each)\n"
     ]
    }
   ],
   "source": [
    "%%timeit\n",
    "np.random.seed(seed)\n",
    "\n",
    "A = np.random.rand(m,n)\n",
    "U = np.random.rand(m,n)\n",
    "sigma_arr = np.random.rand(m,n)\n",
    "np.sum((np.square(A[:,columns]-U[:,columns])/sigma_arr[:,columns]))"
   ]
  },
  {
   "cell_type": "code",
   "execution_count": null,
   "metadata": {},
   "outputs": [],
   "source": []
  },
  {
   "cell_type": "code",
   "execution_count": null,
   "metadata": {},
   "outputs": [],
   "source": []
  }
 ],
 "metadata": {
  "kernelspec": {
   "display_name": "Python 3",
   "language": "python",
   "name": "python3"
  },
  "language_info": {
   "codemirror_mode": {
    "name": "ipython",
    "version": 3
   },
   "file_extension": ".py",
   "mimetype": "text/x-python",
   "name": "python",
   "nbconvert_exporter": "python",
   "pygments_lexer": "ipython3",
   "version": "3.6.3"
  }
 },
 "nbformat": 4,
 "nbformat_minor": 2
}
